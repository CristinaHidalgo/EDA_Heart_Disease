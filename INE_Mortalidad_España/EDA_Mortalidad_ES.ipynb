{
 "cells": [
  {
   "attachments": {},
   "cell_type": "markdown",
   "metadata": {},
   "source": [
    "# EDA_Mortalidad_España\n",
    "##### Cristina Hidalgo"
   ]
  },
  {
   "attachments": {},
   "cell_type": "markdown",
   "metadata": {},
   "source": [
    "La idea de este proyecto surgió de la hipótesis de diseñar un producto que pudiera ser utilizado tanto por las entidades sanitarias como por las empresas aseguradoras. La salud y el dinero son dos aspectos fundamentales en la vida y en la sociedad consumista actual, y este producto busca ofrecer una solución que aborde ambos aspectos de manera efectiva."
   ]
  },
  {
   "attachments": {},
   "cell_type": "markdown",
   "metadata": {},
   "source": [
    "Para seleccionar la enfermedad que definirá el proyecto se han descargado datos del INE que contienen el total de muertes de la población española por causas y edad desde 2010-2021. Están disponibles públicamente en: https://www.ine.es/jaxiT3/Datos.htm?t=49075#!tabs-tabla."
   ]
  },
  {
   "cell_type": "code",
   "execution_count": 1,
   "metadata": {},
   "outputs": [],
   "source": [
    "import numpy as np\n",
    "import pandas as pd\n",
    "import pandas_profiling as pp"
   ]
  },
  {
   "cell_type": "code",
   "execution_count": 2,
   "metadata": {},
   "outputs": [
    {
     "data": {
      "text/html": [
       "<div>\n",
       "<style scoped>\n",
       "    .dataframe tbody tr th:only-of-type {\n",
       "        vertical-align: middle;\n",
       "    }\n",
       "\n",
       "    .dataframe tbody tr th {\n",
       "        vertical-align: top;\n",
       "    }\n",
       "\n",
       "    .dataframe thead th {\n",
       "        text-align: right;\n",
       "    }\n",
       "</style>\n",
       "<table border=\"1\" class=\"dataframe\">\n",
       "  <thead>\n",
       "    <tr style=\"text-align: right;\">\n",
       "      <th></th>\n",
       "      <th>Causa</th>\n",
       "      <th>Sexo</th>\n",
       "      <th>Edad</th>\n",
       "      <th>Periodo</th>\n",
       "      <th>Total muertes</th>\n",
       "    </tr>\n",
       "  </thead>\n",
       "  <tbody>\n",
       "    <tr>\n",
       "      <th>0</th>\n",
       "      <td>Enfermedades infecciosas y parasitarias</td>\n",
       "      <td>Hombres</td>\n",
       "      <td>De menos de 1 año</td>\n",
       "      <td>2010</td>\n",
       "      <td>9.000</td>\n",
       "    </tr>\n",
       "    <tr>\n",
       "      <th>1</th>\n",
       "      <td>Enfermedades infecciosas y parasitarias</td>\n",
       "      <td>Hombres</td>\n",
       "      <td>De 1 a 4 años</td>\n",
       "      <td>2010</td>\n",
       "      <td>9.000</td>\n",
       "    </tr>\n",
       "    <tr>\n",
       "      <th>2</th>\n",
       "      <td>Enfermedades infecciosas y parasitarias</td>\n",
       "      <td>Hombres</td>\n",
       "      <td>De 5 a 9 años</td>\n",
       "      <td>2010</td>\n",
       "      <td>1.000</td>\n",
       "    </tr>\n",
       "    <tr>\n",
       "      <th>3</th>\n",
       "      <td>Enfermedades infecciosas y parasitarias</td>\n",
       "      <td>Hombres</td>\n",
       "      <td>De 10 a 14 años</td>\n",
       "      <td>2010</td>\n",
       "      <td>3.000</td>\n",
       "    </tr>\n",
       "    <tr>\n",
       "      <th>4</th>\n",
       "      <td>Enfermedades infecciosas y parasitarias</td>\n",
       "      <td>Hombres</td>\n",
       "      <td>De 15 a 19 años</td>\n",
       "      <td>2010</td>\n",
       "      <td>3.000</td>\n",
       "    </tr>\n",
       "    <tr>\n",
       "      <th>...</th>\n",
       "      <td>...</td>\n",
       "      <td>...</td>\n",
       "      <td>...</td>\n",
       "      <td>...</td>\n",
       "      <td>...</td>\n",
       "    </tr>\n",
       "    <tr>\n",
       "      <th>8563</th>\n",
       "      <td>Causas externas de mortalidad</td>\n",
       "      <td>Mujeres</td>\n",
       "      <td>De 75 a 79 años</td>\n",
       "      <td>2021</td>\n",
       "      <td>470.000</td>\n",
       "    </tr>\n",
       "    <tr>\n",
       "      <th>8564</th>\n",
       "      <td>Causas externas de mortalidad</td>\n",
       "      <td>Mujeres</td>\n",
       "      <td>De 80 a 84 años</td>\n",
       "      <td>2021</td>\n",
       "      <td>682.000</td>\n",
       "    </tr>\n",
       "    <tr>\n",
       "      <th>8565</th>\n",
       "      <td>Causas externas de mortalidad</td>\n",
       "      <td>Mujeres</td>\n",
       "      <td>De 85 a 89 años</td>\n",
       "      <td>2021</td>\n",
       "      <td>1.134</td>\n",
       "    </tr>\n",
       "    <tr>\n",
       "      <th>8566</th>\n",
       "      <td>Causas externas de mortalidad</td>\n",
       "      <td>Mujeres</td>\n",
       "      <td>De 90 a 94 años</td>\n",
       "      <td>2021</td>\n",
       "      <td>1.102</td>\n",
       "    </tr>\n",
       "    <tr>\n",
       "      <th>8567</th>\n",
       "      <td>Causas externas de mortalidad</td>\n",
       "      <td>Mujeres</td>\n",
       "      <td>De 95 y más años</td>\n",
       "      <td>2021</td>\n",
       "      <td>589.000</td>\n",
       "    </tr>\n",
       "  </tbody>\n",
       "</table>\n",
       "<p>8568 rows × 5 columns</p>\n",
       "</div>"
      ],
      "text/plain": [
       "                                        Causa     Sexo               Edad  \\\n",
       "0     Enfermedades infecciosas y parasitarias  Hombres  De menos de 1 año   \n",
       "1     Enfermedades infecciosas y parasitarias  Hombres      De 1 a 4 años   \n",
       "2     Enfermedades infecciosas y parasitarias  Hombres      De 5 a 9 años   \n",
       "3     Enfermedades infecciosas y parasitarias  Hombres  De 10 a 14 años     \n",
       "4     Enfermedades infecciosas y parasitarias  Hombres  De 15 a 19 años     \n",
       "...                                       ...      ...                ...   \n",
       "8563            Causas externas de mortalidad  Mujeres  De 75 a 79 años     \n",
       "8564            Causas externas de mortalidad  Mujeres  De 80 a 84 años     \n",
       "8565            Causas externas de mortalidad  Mujeres  De 85 a 89 años     \n",
       "8566            Causas externas de mortalidad  Mujeres  De 90 a 94 años     \n",
       "8567            Causas externas de mortalidad  Mujeres   De 95 y más años   \n",
       "\n",
       "      Periodo  Total muertes  \n",
       "0        2010          9.000  \n",
       "1        2010          9.000  \n",
       "2        2010          1.000  \n",
       "3        2010          3.000  \n",
       "4        2010          3.000  \n",
       "...       ...            ...  \n",
       "8563     2021        470.000  \n",
       "8564     2021        682.000  \n",
       "8565     2021          1.134  \n",
       "8566     2021          1.102  \n",
       "8567     2021        589.000  \n",
       "\n",
       "[8568 rows x 5 columns]"
      ]
     },
     "execution_count": 2,
     "metadata": {},
     "output_type": "execute_result"
    }
   ],
   "source": [
    "Mortalidad_ES_causas_edades = pd.read_csv('./data/Mortalidad_ES_causas_edades.csv', sep=';', encoding='latin-1')\n",
    "Mortalidad_ES_causas_edades"
   ]
  },
  {
   "attachments": {},
   "cell_type": "markdown",
   "metadata": {},
   "source": [
    "### Información de los datos recogidos"
   ]
  },
  {
   "cell_type": "code",
   "execution_count": 3,
   "metadata": {},
   "outputs": [
    {
     "data": {
      "text/plain": [
       "Index(['Causa', 'Sexo', 'Edad', 'Periodo', 'Total muertes'], dtype='object')"
      ]
     },
     "execution_count": 3,
     "metadata": {},
     "output_type": "execute_result"
    }
   ],
   "source": [
    "Mortalidad_ES_causas_edades.columns"
   ]
  },
  {
   "cell_type": "code",
   "execution_count": 4,
   "metadata": {},
   "outputs": [
    {
     "data": {
      "text/plain": [
       "(8568, 5)"
      ]
     },
     "execution_count": 4,
     "metadata": {},
     "output_type": "execute_result"
    }
   ],
   "source": [
    "Mortalidad_ES_causas_edades.shape"
   ]
  },
  {
   "cell_type": "code",
   "execution_count": 8,
   "metadata": {},
   "outputs": [
    {
     "name": "stdout",
     "output_type": "stream",
     "text": [
      "<class 'pandas.core.frame.DataFrame'>\n",
      "RangeIndex: 8568 entries, 0 to 8567\n",
      "Data columns (total 5 columns):\n",
      " #   Column         Non-Null Count  Dtype  \n",
      "---  ------         --------------  -----  \n",
      " 0   Causa          8568 non-null   object \n",
      " 1   Sexo           8568 non-null   object \n",
      " 2   Edad           8568 non-null   object \n",
      " 3   Periodo        8568 non-null   int64  \n",
      " 4   Total muertes  8568 non-null   float64\n",
      "dtypes: float64(1), int64(1), object(3)\n",
      "memory usage: 334.8+ KB\n"
     ]
    }
   ],
   "source": [
    "Mortalidad_ES_causas_edades.info()"
   ]
  },
  {
   "cell_type": "code",
   "execution_count": 7,
   "metadata": {},
   "outputs": [
    {
     "data": {
      "text/html": [
       "<div>\n",
       "<style scoped>\n",
       "    .dataframe tbody tr th:only-of-type {\n",
       "        vertical-align: middle;\n",
       "    }\n",
       "\n",
       "    .dataframe tbody tr th {\n",
       "        vertical-align: top;\n",
       "    }\n",
       "\n",
       "    .dataframe thead th {\n",
       "        text-align: right;\n",
       "    }\n",
       "</style>\n",
       "<table border=\"1\" class=\"dataframe\">\n",
       "  <thead>\n",
       "    <tr style=\"text-align: right;\">\n",
       "      <th></th>\n",
       "      <th>Periodo</th>\n",
       "      <th>Total muertes</th>\n",
       "    </tr>\n",
       "  </thead>\n",
       "  <tbody>\n",
       "    <tr>\n",
       "      <th>count</th>\n",
       "      <td>8568.000000</td>\n",
       "      <td>8568.000000</td>\n",
       "    </tr>\n",
       "    <tr>\n",
       "      <th>mean</th>\n",
       "      <td>2015.500000</td>\n",
       "      <td>101.728447</td>\n",
       "    </tr>\n",
       "    <tr>\n",
       "      <th>std</th>\n",
       "      <td>3.452254</td>\n",
       "      <td>197.450910</td>\n",
       "    </tr>\n",
       "    <tr>\n",
       "      <th>min</th>\n",
       "      <td>2010.000000</td>\n",
       "      <td>0.000000</td>\n",
       "    </tr>\n",
       "    <tr>\n",
       "      <th>25%</th>\n",
       "      <td>2012.750000</td>\n",
       "      <td>1.968500</td>\n",
       "    </tr>\n",
       "    <tr>\n",
       "      <th>50%</th>\n",
       "      <td>2015.500000</td>\n",
       "      <td>10.000000</td>\n",
       "    </tr>\n",
       "    <tr>\n",
       "      <th>75%</th>\n",
       "      <td>2018.250000</td>\n",
       "      <td>87.000000</td>\n",
       "    </tr>\n",
       "    <tr>\n",
       "      <th>max</th>\n",
       "      <td>2021.000000</td>\n",
       "      <td>999.000000</td>\n",
       "    </tr>\n",
       "  </tbody>\n",
       "</table>\n",
       "</div>"
      ],
      "text/plain": [
       "           Periodo  Total muertes\n",
       "count  8568.000000    8568.000000\n",
       "mean   2015.500000     101.728447\n",
       "std       3.452254     197.450910\n",
       "min    2010.000000       0.000000\n",
       "25%    2012.750000       1.968500\n",
       "50%    2015.500000      10.000000\n",
       "75%    2018.250000      87.000000\n",
       "max    2021.000000     999.000000"
      ]
     },
     "execution_count": 7,
     "metadata": {},
     "output_type": "execute_result"
    }
   ],
   "source": [
    "Mortalidad_ES_causas_edades.describe()\n",
    "#Solo para total muertes"
   ]
  },
  {
   "attachments": {},
   "cell_type": "markdown",
   "metadata": {},
   "source": [
    "## Análisis Exploratorio de Datos"
   ]
  },
  {
   "cell_type": "code",
   "execution_count": 5,
   "metadata": {},
   "outputs": [
    {
     "data": {
      "text/plain": [
       "Causa                                                                                                                    \n",
       "Afecciones originadas en el periodo perinatal                                                                                504\n",
       "Enfermedades del sistema osteomuscular y del tejido conjuntivo                                                               504\n",
       "Trastornos mentales y del comportamiento                                                                                     504\n",
       "Síntomas, signos y hallazgos anormales clínicos y de laboratorio, no clasificados en otra parte                              504\n",
       "Malformaciones congénitas, deformidades y anomalías cromosómicas                                                             504\n",
       "Enfermedades infecciosas y parasitarias                                                                                      504\n",
       "Enfermedades endocrinas, nutricionales y metabólicas                                                                         504\n",
       "Enfermedades del sistema respiratorio                                                                                        504\n",
       "Enfermedades del sistema nervioso y de los órganos de los sentidos                                                           504\n",
       "Causas externas de mortalidad                                                                                                504\n",
       "Enfermedades del sistema genitourinario                                                                                      504\n",
       "Enfermedades del sistema digestivo                                                                                           504\n",
       "Enfermedades del sistema circulatorio                                                                                        504\n",
       "Enfermedades de la sangre y de los órganos hematopoyéticos, y ciertos trastornos que afectan al mecanismo de la inmunidad    504\n",
       "Enfermedades de la piel y del tejido subcutáneo                                                                              504\n",
       "Embarazo, parto y puerperio                                                                                                  504\n",
       "Tumores                                                                                                                      504\n",
       "Name: count, dtype: int64"
      ]
     },
     "execution_count": 5,
     "metadata": {},
     "output_type": "execute_result"
    }
   ],
   "source": [
    "Mortalidad_ES_causas_edades[[\"Causa\"]].value_counts()"
   ]
  },
  {
   "cell_type": "code",
   "execution_count": 6,
   "metadata": {},
   "outputs": [
    {
     "data": {
      "text/plain": [
       "8568"
      ]
     },
     "execution_count": 6,
     "metadata": {},
     "output_type": "execute_result"
    }
   ],
   "source": [
    "Mortalidad_ES_causas_edades[\"Causa\"].value_counts().sum()"
   ]
  },
  {
   "cell_type": "code",
   "execution_count": 9,
   "metadata": {},
   "outputs": [],
   "source": [
    "Mortalidad_ES_causas_edades[\"Periodo\"] = pd.to_datetime(Mortalidad_ES_causas_edades[\"Periodo\"])"
   ]
  },
  {
   "cell_type": "code",
   "execution_count": 10,
   "metadata": {},
   "outputs": [
    {
     "name": "stdout",
     "output_type": "stream",
     "text": [
      "<class 'pandas.core.frame.DataFrame'>\n",
      "RangeIndex: 8568 entries, 0 to 8567\n",
      "Data columns (total 5 columns):\n",
      " #   Column         Non-Null Count  Dtype         \n",
      "---  ------         --------------  -----         \n",
      " 0   Causa          8568 non-null   object        \n",
      " 1   Sexo           8568 non-null   object        \n",
      " 2   Edad           8568 non-null   object        \n",
      " 3   Periodo        8568 non-null   datetime64[ns]\n",
      " 4   Total muertes  8568 non-null   float64       \n",
      "dtypes: datetime64[ns](1), float64(1), object(3)\n",
      "memory usage: 334.8+ KB\n"
     ]
    }
   ],
   "source": [
    "Mortalidad_ES_causas_edades.info()"
   ]
  },
  {
   "cell_type": "code",
   "execution_count": 14,
   "metadata": {},
   "outputs": [],
   "source": [
    "pp.ProfileReport(Mortalidad_ES_causas_edades);"
   ]
  },
  {
   "cell_type": "code",
   "execution_count": 15,
   "metadata": {},
   "outputs": [
    {
     "data": {
      "application/vnd.jupyter.widget-view+json": {
       "model_id": "2c0295fc3263448f8ec1d778e118c4a8",
       "version_major": 2,
       "version_minor": 0
      },
      "text/plain": [
       "Summarize dataset:   0%|          | 0/5 [00:00<?, ?it/s]"
      ]
     },
     "metadata": {},
     "output_type": "display_data"
    },
    {
     "name": "stderr",
     "output_type": "stream",
     "text": [
      "c:\\Users\\Cristina\\anaconda3\\envs\\eda_env\\lib\\site-packages\\multimethod\\__init__.py:315: UserWarning: Discarding nonzero nanoseconds in conversion.\n",
      "  return func(*args, **kwargs)\n"
     ]
    },
    {
     "data": {
      "application/vnd.jupyter.widget-view+json": {
       "model_id": "09b5225d49504e7ab33a00c36f81aad8",
       "version_major": 2,
       "version_minor": 0
      },
      "text/plain": [
       "Generate report structure:   0%|          | 0/1 [00:00<?, ?it/s]"
      ]
     },
     "metadata": {},
     "output_type": "display_data"
    },
    {
     "data": {
      "application/vnd.jupyter.widget-view+json": {
       "model_id": "3210752a5c574f7ca8dbf0bb44ee384e",
       "version_major": 2,
       "version_minor": 0
      },
      "text/plain": [
       "Render widgets:   0%|          | 0/1 [00:00<?, ?it/s]"
      ]
     },
     "metadata": {},
     "output_type": "display_data"
    },
    {
     "data": {
      "application/vnd.jupyter.widget-view+json": {
       "model_id": "398b8bb7977140dfb4c41169a539172e",
       "version_major": 2,
       "version_minor": 0
      },
      "text/plain": [
       "VBox(children=(Tab(children=(Tab(children=(GridBox(children=(VBox(children=(GridspecLayout(children=(HTML(valu…"
      ]
     },
     "metadata": {},
     "output_type": "display_data"
    }
   ],
   "source": [
    "from pandas_profiling import ProfileReport\n",
    "\n",
    "profile = ProfileReport(Mortalidad_ES_causas_edades, title=\"Mortalidad_ES_causas_edades Report\", explorative=True)\n",
    "\n",
    "profile.to_widgets()\n"
   ]
  },
  {
   "attachments": {},
   "cell_type": "markdown",
   "metadata": {},
   "source": [
    "Los datos se han analizado con power BI. A partir de este análisis se ha determinado que la principal causa de muerte en España son las enfermedades cardiacas"
   ]
  },
  {
   "attachments": {},
   "cell_type": "markdown",
   "metadata": {},
   "source": [
    "Según las estadísticas de la OMS, cada año mueren 17,9 millones por enfermedades del corazón.\n",
    "\n",
    "El estudio médico dice que el estilo de vida humano es la razón principal detrás de este problema cardíaco.\n",
    "Aparte de esto, hay muchos factores clave que advierten que la persona puede o no tener riesgo de enfermedad cardíaca."
   ]
  }
 ],
 "metadata": {
  "kernelspec": {
   "display_name": "eda_env",
   "language": "python",
   "name": "python3"
  },
  "language_info": {
   "codemirror_mode": {
    "name": "ipython",
    "version": 3
   },
   "file_extension": ".py",
   "mimetype": "text/x-python",
   "name": "python",
   "nbconvert_exporter": "python",
   "pygments_lexer": "ipython3",
   "version": "3.9.16"
  },
  "orig_nbformat": 4
 },
 "nbformat": 4,
 "nbformat_minor": 2
}
